{
 "cells": [
  {
   "cell_type": "code",
   "execution_count": 1,
   "metadata": {},
   "outputs": [],
   "source": [
    "#The directive \"%\" talks to Jupter Notebook directly\n",
    "#matplotlib inline will embedd matplotlib graphs nicely within the code cells\n",
    "\n",
    "%matplotlib inline"
   ]
  },
  {
   "cell_type": "code",
   "execution_count": 2,
   "metadata": {},
   "outputs": [
    {
     "name": "stdout",
     "output_type": "stream",
     "text": [
      "/home/luc/Jupyter Notebooks/Object Localization/Dogs vs Cats\n"
     ]
    },
    {
     "name": "stderr",
     "output_type": "stream",
     "text": [
      "Using TensorFlow backend.\n"
     ]
    }
   ],
   "source": [
    "#import tool for accessing xml files:\n",
    "import xml.etree.ElementTree as ET\n",
    "\n",
    "import numpy as np\n",
    "from numpy import asarray\n",
    "\n",
    "#import Python Image Library (PIL)\n",
    "from PIL import Image\n",
    "\n",
    "#import matplotlib and patches to draw bounding boxes:\n",
    "import matplotlib.pyplot as plt\n",
    "import matplotlib.patches as patches\n",
    "\n",
    "\n",
    "#import keras\n",
    "import tensorflow as tf\n",
    "import keras\n",
    "from keras.models import Sequential\n",
    "from keras.layers import Dense, Dropout, Activation, Flatten\n",
    "from keras.layers import Conv2D, MaxPooling2D\n",
    "from keras.preprocessing import image\n",
    "\n",
    "\n",
    "#current path\n",
    "import os\n",
    "PATH = os.getcwd()\n",
    "print(PATH)"
   ]
  },
  {
   "cell_type": "code",
   "execution_count": 3,
   "metadata": {},
   "outputs": [
    {
     "name": "stdout",
     "output_type": "stream",
     "text": [
      "1985\n"
     ]
    }
   ],
   "source": [
    "#define path of images to be trained\n",
    "train_img_path = PATH + '/selected dataset/selected images/'\n",
    "\n",
    "img_train = []\n",
    "\n",
    "#lst = List of all images in train_img_path\n",
    "lst = os.listdir(train_img_path)\n",
    "#sort the lst alphabetically\n",
    "lst.sort()\n",
    "\n",
    "#length of the list\n",
    "print(len(lst))\n"
   ]
  },
  {
   "cell_type": "code",
   "execution_count": 4,
   "metadata": {},
   "outputs": [
    {
     "name": "stdout",
     "output_type": "stream",
     "text": [
      "Abyssinian_1.jpg\n"
     ]
    }
   ],
   "source": [
    "#print first element of List lst\n",
    "print(lst[0])"
   ]
  },
  {
   "cell_type": "code",
   "execution_count": 5,
   "metadata": {},
   "outputs": [
    {
     "name": "stdout",
     "output_type": "stream",
     "text": [
      "<class 'numpy.ndarray'>\n",
      "(1985, 100, 100, 3)\n"
     ]
    }
   ],
   "source": [
    "#Set resized dimensions:\n",
    "resized_width = 100\n",
    "resized_height = 100\n",
    "\n",
    "\n",
    "#For each image in lst, \n",
    "for sample in lst:\n",
    "    #take the specific path to that image,\n",
    "    img_path = train_img_path + sample\n",
    "    #load that image,\n",
    "    test_image = Image.open(img_path)\n",
    "    #resize that image,\n",
    "    test_image = test_image.resize((resized_width, resized_height), 3)\n",
    "    #test_image = test_image.resize((resized_width, resized_height))\n",
    "    #turn it into an array,\n",
    "    data1 = asarray(test_image)\n",
    "    #data1 = data1.reshape(resized_width, resized_height, 3)\n",
    "    #expand that 3-dim array into 4-dim array.\n",
    "    data = np.expand_dims(data1, axis=0)\n",
    "    if img_path == train_img_path + lst[0]:\n",
    "        #specify the first image/array to be the \"total\" img_array\n",
    "        img_array = data\n",
    "    else:\n",
    "        #append all following arrays to the img_array\n",
    "        #print(img_array.shape, data.shape, data1.shape, test_image.size)\n",
    "        img_array = np.append(img_array, data, axis=0)\n",
    "    \n",
    "#for white-and-black pics (channels=1), we can normalize the data points:\n",
    "#img_array = img_array / 255\n",
    "#now we can limit the range of the values to be of type float32:\n",
    "#img_array = img_array.astype('float32')\n",
    "\n",
    "#check format: should be numpy.ndarray\n",
    "print(type(img_array))\n",
    "#check shape: should be (number of pics, width, height, colourdimension)\n",
    "print(img_array.shape)\n",
    "\n",
    "\n",
    "#If error occurs, that dimensions aren't correct (concatenate), there may be a black-and-white image in the set, \n",
    "#that cannot be transformed into (100,100,3). Solution: delete this image from the set"
   ]
  },
  {
   "cell_type": "code",
   "execution_count": 6,
   "metadata": {},
   "outputs": [],
   "source": [
    "#define path of labels\n",
    "train_labels_path = PATH + '/selected dataset/selected xmls/'\n",
    "\n",
    "#list all files in directory train_labels_path:\n",
    "lst_label = os.listdir(train_labels_path)\n",
    "#sort this list:\n",
    "lst_label.sort()\n",
    "\n",
    "#output this list:\n",
    "#lst_label"
   ]
  },
  {
   "cell_type": "code",
   "execution_count": 7,
   "metadata": {},
   "outputs": [
    {
     "name": "stdout",
     "output_type": "stream",
     "text": [
      "<class 'list'>\n",
      "Abyssinian_1.xml\n"
     ]
    }
   ],
   "source": [
    "print(type(lst_label))\n",
    "print(lst_label[0])"
   ]
  },
  {
   "cell_type": "code",
   "execution_count": 8,
   "metadata": {},
   "outputs": [
    {
     "name": "stdout",
     "output_type": "stream",
     "text": [
      "1985 1985\n"
     ]
    }
   ],
   "source": [
    "label_array =[]\n",
    "label_array_reg =[]\n",
    "\n",
    "i=0\n",
    "\n",
    "#For any xml-files in the lst_label list,\n",
    "for sample_label in lst_label:\n",
    "    #Count number of labels:\n",
    "    i+=1\n",
    "    #take its path,\n",
    "    label_path = train_labels_path + sample_label\n",
    "    #parse the xml file,\n",
    "    xml = ET.parse(label_path)\n",
    "    #get the root of the xml file.\n",
    "    root_xml = xml.getroot()\n",
    "    \n",
    "    #Within the root, look for subbranch bndbox and iterate through its objects\n",
    "    for bndbox in root_xml.iter('bndbox'):\n",
    "    \n",
    "        #fetch the coordinates:\n",
    "        xmin = float(bndbox.find('xmin').text)\n",
    "        ymin = float(bndbox.find('ymin').text)\n",
    "        xmax = float(bndbox.find('xmax').text)\n",
    "        ymax = float(bndbox.find('ymax').text)\n",
    "        \n",
    "    #Grab the original size of the image:    \n",
    "    for orig_size in root_xml.iter('size'):\n",
    "        \n",
    "        width = float(orig_size.find('width').text)\n",
    "        height = float(orig_size.find('height').text)\n",
    "        \n",
    "    #Within the root, look for the subbranch object and iterate through its objects    \n",
    "    for animal_name in root_xml.iter('object'):\n",
    "        \n",
    "        #fetch the name of the animal\n",
    "        animal = animal_name.find('name').text\n",
    "        \n",
    "        if animal == 'dog':\n",
    "            animal = 1  \n",
    "        else:\n",
    "            animal = 0\n",
    "    \n",
    "    \n",
    "    #Calculate the ratios needed to apply to the original-sized-image, in order to receive the resized-image\n",
    "    #For x:\n",
    "    x_ratio = resized_width/width\n",
    "    #For y:\n",
    "    y_ratio = resized_height/height\n",
    "    \n",
    "    \n",
    "    \n",
    "    #save the coordinates and the class label in a small label array; \n",
    "    #modify the coordinates with the corresponding ratios\n",
    "    little_array2 = np.array([xmin*x_ratio, ymin*y_ratio, xmax*x_ratio, ymax*y_ratio])\n",
    "    \n",
    "    \n",
    "    #save class labels in small label array\n",
    "    little_array = np.array([animal])\n",
    "    \n",
    "    #If its the first xml label, \n",
    "    if label_path == train_labels_path + lst_label[0]:\n",
    "        #then start off with the small array to be the \"total\" label array\n",
    "        label_array = np.append(label_array, little_array)\n",
    "    else:\n",
    "        #otherwise, all other label arrays are appended to the \"total\" array\n",
    "        label_array = np.append(label_array, little_array, axis=0)     \n",
    "        \n",
    "        \n",
    "        #If its the first xml label, \n",
    "    if label_path == train_labels_path + lst_label[0]:\n",
    "        #then start off with the small array to be the \"total\" label array\n",
    "        label_array_reg = np.append(label_array_reg, little_array2)\n",
    "    else:\n",
    "        #otherwise, all other label arrays are appended to the \"total\" array\n",
    "        label_array_reg = np.append(label_array_reg, little_array2, axis=0)   \n",
    "\n",
    "        \n",
    "        \n",
    "#In the end, the number of labels is equivalent to the 4 parameter values times all the labels\n",
    "#These values must be the same in order for the image and the label sets to match!\n",
    "print(int(label_array_reg.shape[0]/4), i)"
   ]
  },
  {
   "cell_type": "code",
   "execution_count": 9,
   "metadata": {},
   "outputs": [],
   "source": [
    "#Reshape to achieve format for bounding box values: (total number of labels, 4)    \n",
    "label_array_reg = np.reshape(label_array_reg, (i,4))    \n",
    "\n",
    "#Reshape to achieve format for class labels: (total number of labels, 1)    \n",
    "label_array = np.reshape(label_array, (i,1))    "
   ]
  },
  {
   "cell_type": "code",
   "execution_count": 10,
   "metadata": {},
   "outputs": [
    {
     "name": "stdout",
     "output_type": "stream",
     "text": [
      "<class 'numpy.ndarray'>\n",
      "(1985, 1)\n",
      "<class 'numpy.ndarray'>\n",
      "(1985, 4)\n"
     ]
    }
   ],
   "source": [
    "#check format: should be numpy.ndarray\n",
    "print(type(label_array))\n",
    "#check shape: should be (number of pics, number of labels)\n",
    "#here: number of labels = 4 (xmin, ymin, xmax, ymax) + 1 (class name: 1 for dog, 0 for cat) = 5\n",
    "print(label_array.shape)\n",
    "\n",
    "print(type(label_array_reg))\n",
    "print(label_array_reg.shape)\n",
    "#print(label_array_reg)"
   ]
  },
  {
   "cell_type": "code",
   "execution_count": 11,
   "metadata": {},
   "outputs": [],
   "source": [
    "#may be adjusted:\n",
    "batch_size = 8\n",
    "epochs = 2\n",
    "\n",
    "\n",
    "#fixed:\n",
    "num_classes = 2\n",
    "input_shape = (resized_width, resized_height, 3)\n",
    "\n",
    "#fixed:\n",
    "num_regressions = 4"
   ]
  },
  {
   "cell_type": "code",
   "execution_count": 12,
   "metadata": {},
   "outputs": [],
   "source": [
    "#x_train = x_train.reshape(x_train.shape[0], img_rows, img_cols, 1)\n",
    "\n",
    "label_array = keras.utils.to_categorical(label_array, num_classes)"
   ]
  },
  {
   "cell_type": "code",
   "execution_count": 13,
   "metadata": {},
   "outputs": [],
   "source": [
    "model_base = Sequential()\n",
    "\n",
    "model_base.add(Conv2D(4, kernel_size=(3, 3), activation='relu', input_shape=input_shape))\n",
    "model_base.add(MaxPooling2D(pool_size=(2, 2)))\n",
    "\n",
    "#model_base.add(Conv2D(8, (3, 3), activation='relu'))\n",
    "#model_base.add(MaxPooling2D(pool_size=(2, 2)))\n",
    "#model_base.add(Dropout(0.25))\n",
    "\n",
    "model_base.add(Conv2D(16, (3, 3), activation='relu'))\n",
    "model_base.add(MaxPooling2D(pool_size=(2, 2)))\n",
    "\n",
    "#model_base.add(Conv2D(128, (3, 3), activation='relu'))\n",
    "#model_base.add(MaxPooling2D(pool_size=(2, 2)))\n",
    "\n",
    "#model_base.add(Conv2D(32, (3, 3), activation='relu'))\n",
    "#model_base.add(MaxPooling2D(pool_size=(2, 2)))\n",
    "\n",
    "model_base.add(Flatten())\n",
    "\n",
    "#model_base.add(Dense(256, activation='relu'))\n",
    "#model_base.add(Dropout(0.3))\n",
    "\n",
    "model_base.add(Dense(64, activation='relu'))\n",
    "model_base.add(Dropout(0.25))\n",
    "\n",
    "\n",
    "model_base.add(Dense(num_classes, activation='sigmoid'))\n",
    "\n",
    "model_base.compile(optimizer='adam', \n",
    "              loss='binary_crossentropy',\n",
    "              metrics=['accuracy'])"
   ]
  },
  {
   "cell_type": "code",
   "execution_count": 14,
   "metadata": {},
   "outputs": [
    {
     "name": "stdout",
     "output_type": "stream",
     "text": [
      "_________________________________________________________________\n",
      "Layer (type)                 Output Shape              Param #   \n",
      "=================================================================\n",
      "conv2d_1 (Conv2D)            (None, 98, 98, 4)         112       \n",
      "_________________________________________________________________\n",
      "max_pooling2d_1 (MaxPooling2 (None, 49, 49, 4)         0         \n",
      "_________________________________________________________________\n",
      "conv2d_2 (Conv2D)            (None, 47, 47, 16)        592       \n",
      "_________________________________________________________________\n",
      "max_pooling2d_2 (MaxPooling2 (None, 23, 23, 16)        0         \n",
      "_________________________________________________________________\n",
      "flatten_1 (Flatten)          (None, 8464)              0         \n",
      "_________________________________________________________________\n",
      "dense_1 (Dense)              (None, 64)                541760    \n",
      "_________________________________________________________________\n",
      "dropout_1 (Dropout)          (None, 64)                0         \n",
      "_________________________________________________________________\n",
      "dense_2 (Dense)              (None, 2)                 130       \n",
      "=================================================================\n",
      "Total params: 542,594\n",
      "Trainable params: 542,594\n",
      "Non-trainable params: 0\n",
      "_________________________________________________________________\n"
     ]
    }
   ],
   "source": [
    "model_base.summary()"
   ]
  },
  {
   "cell_type": "code",
   "execution_count": 15,
   "metadata": {},
   "outputs": [
    {
     "name": "stdout",
     "output_type": "stream",
     "text": [
      "Epoch 1/2\n",
      "1985/1985 [==============================] - 6s 3ms/step - loss: 4.9733 - acc: 0.6894\n",
      "Epoch 2/2\n",
      "1985/1985 [==============================] - 4s 2ms/step - loss: 4.7243 - acc: 0.7053\n"
     ]
    },
    {
     "data": {
      "text/plain": [
       "<keras.callbacks.History at 0x7f7445191ac8>"
      ]
     },
     "execution_count": 15,
     "metadata": {},
     "output_type": "execute_result"
    }
   ],
   "source": [
    "model_base.fit(img_array, label_array,\n",
    "          batch_size=4,\n",
    "          epochs=epochs,\n",
    "          verbose=1)"
   ]
  },
  {
   "cell_type": "code",
   "execution_count": 16,
   "metadata": {},
   "outputs": [],
   "source": [
    "regression_head = Sequential()\n",
    "\n",
    "regression_head.add(Conv2D(4, kernel_size=(3, 3), activation='relu', input_shape=input_shape))\n",
    "regression_head.add(MaxPooling2D(pool_size=(2, 2)))\n",
    "\n",
    "#regression_head.add(Conv2D(8, kernel_size=(3, 3), activation='relu', input_shape=input_shape))\n",
    "#regression_head.add(MaxPooling2D(pool_size=(2, 2)))\n",
    "#regression_head.add(Dropout(0.25))\n",
    "\n",
    "regression_head.add(Conv2D(16, (3, 3), activation='relu'))\n",
    "regression_head.add(MaxPooling2D(pool_size=(2, 2)))\n",
    "\n",
    "regression_head.add(Flatten())\n",
    "regression_head.add(Dense(128, activation='relu'))\n",
    "regression_head.add(Dropout(0.25))\n",
    "\n",
    "#regression_head.add(Dense(64, activation='relu'))\n",
    "#regression_head.add(Dropout(0.25))\n",
    "\n",
    "regression_head.add(Dense(32, activation='relu'))\n",
    "\n",
    "\n",
    "#Last layer should be regressionally trained, so have ReLU activation to preserve possibly high values\n",
    "regression_head.add(Dense(num_regressions, activation='relu'))\n",
    "\n",
    "regression_head.compile(optimizer='adam', \n",
    "              loss='mse',\n",
    "              metrics=['accuracy'])"
   ]
  },
  {
   "cell_type": "code",
   "execution_count": 17,
   "metadata": {},
   "outputs": [
    {
     "name": "stdout",
     "output_type": "stream",
     "text": [
      "_________________________________________________________________\n",
      "Layer (type)                 Output Shape              Param #   \n",
      "=================================================================\n",
      "conv2d_3 (Conv2D)            (None, 98, 98, 4)         112       \n",
      "_________________________________________________________________\n",
      "max_pooling2d_3 (MaxPooling2 (None, 49, 49, 4)         0         \n",
      "_________________________________________________________________\n",
      "conv2d_4 (Conv2D)            (None, 47, 47, 16)        592       \n",
      "_________________________________________________________________\n",
      "max_pooling2d_4 (MaxPooling2 (None, 23, 23, 16)        0         \n",
      "_________________________________________________________________\n",
      "flatten_2 (Flatten)          (None, 8464)              0         \n",
      "_________________________________________________________________\n",
      "dense_3 (Dense)              (None, 128)               1083520   \n",
      "_________________________________________________________________\n",
      "dropout_2 (Dropout)          (None, 128)               0         \n",
      "_________________________________________________________________\n",
      "dense_4 (Dense)              (None, 32)                4128      \n",
      "_________________________________________________________________\n",
      "dense_5 (Dense)              (None, 4)                 132       \n",
      "=================================================================\n",
      "Total params: 1,088,484\n",
      "Trainable params: 1,088,484\n",
      "Non-trainable params: 0\n",
      "_________________________________________________________________\n"
     ]
    }
   ],
   "source": [
    "regression_head.summary()"
   ]
  },
  {
   "cell_type": "code",
   "execution_count": 18,
   "metadata": {},
   "outputs": [
    {
     "name": "stdout",
     "output_type": "stream",
     "text": [
      "Epoch 1/2\n",
      "1985/1985 [==============================] - 4s 2ms/step - loss: 860.3482 - acc: 0.5804\n",
      "Epoch 2/2\n",
      "1985/1985 [==============================] - 3s 2ms/step - loss: 418.6958 - acc: 0.6897\n"
     ]
    },
    {
     "data": {
      "text/plain": [
       "<keras.callbacks.History at 0x7f74406b9a90>"
      ]
     },
     "execution_count": 18,
     "metadata": {},
     "output_type": "execute_result"
    }
   ],
   "source": [
    "regression_head.fit(img_array, label_array_reg,\n",
    "          batch_size=batch_size,\n",
    "          epochs=epochs,\n",
    "          verbose=1)"
   ]
  },
  {
   "cell_type": "code",
   "execution_count": 19,
   "metadata": {},
   "outputs": [
    {
     "name": "stdout",
     "output_type": "stream",
     "text": [
      "Saved model for classification to disk\n",
      "Saved model for regression values to disk\n"
     ]
    }
   ],
   "source": [
    "#Save models:\n",
    "\n",
    "model_base.save(\"model_base.h5\")\n",
    "print(\"Saved model for classification to disk\")\n",
    "\n",
    "regression_head.save(\"regression_head.h5\")\n",
    "print(\"Saved model for regression values to disk\")"
   ]
  },
  {
   "cell_type": "code",
   "execution_count": 20,
   "metadata": {},
   "outputs": [],
   "source": [
    "from keras.models import load_model\n",
    "\n",
    "model_base = load_model('model_base.h5')\n",
    "regression_head = load_model('regression_head.h5')"
   ]
  },
  {
   "cell_type": "code",
   "execution_count": 21,
   "metadata": {},
   "outputs": [
    {
     "data": {
      "text/plain": [
       "'/home/luc/Jupyter Notebooks/Object Localization/Dogs vs Cats'"
      ]
     },
     "execution_count": 21,
     "metadata": {},
     "output_type": "execute_result"
    }
   ],
   "source": [
    "PATH"
   ]
  },
  {
   "cell_type": "code",
   "execution_count": 22,
   "metadata": {},
   "outputs": [
    {
     "name": "stdout",
     "output_type": "stream",
     "text": [
      "[[0. 1.]]\n",
      "It's a dog!\n"
     ]
    }
   ],
   "source": [
    "from keras.preprocessing import image\n",
    "\n",
    "#load image from 'test' folder to be predicted;\n",
    "#transform them to the right size 100x100\n",
    "#these images are totally new to the CNN\n",
    "img = image.load_img(PATH + \"/images/havanese_194.jpg\", target_size=(100, 100))\n",
    "#make an array out of it\n",
    "x = image.img_to_array(img)\n",
    "\n",
    "# Add a forth dimension since Keras expects a list of images\n",
    "x2 = np.expand_dims(x, axis=0)\n",
    "# Make a prediction with the CNN\n",
    "prediction = model_base.predict(x2)\n",
    "\n",
    "#label was either [[1. 0.]] or [[0. 1.]]\n",
    "#[[1. 0.]] means: cat\n",
    "#[[0. 1.]] means: dog\n",
    "print(prediction)\n",
    "\n",
    "#Prediction output:\n",
    "#prediction[0][0] will grab the first element of the array, prediction[0][1] the second\n",
    "if prediction[0][0] > prediction[0][1]:\n",
    "    print(\"It's a cat!\")\n",
    "else:\n",
    "    print(\"It's a dog!\")"
   ]
  },
  {
   "cell_type": "code",
   "execution_count": 23,
   "metadata": {},
   "outputs": [
    {
     "name": "stdout",
     "output_type": "stream",
     "text": [
      "[[23.104523  0.       63.895416 59.171597]]\n"
     ]
    },
    {
     "data": {
      "text/plain": [
       "<matplotlib.patches.Rectangle at 0x7f740809dd30>"
      ]
     },
     "execution_count": 23,
     "metadata": {},
     "output_type": "execute_result"
    },
    {
     "data": {
      "image/png": "[encoded data removed]",
      "text/plain": [
       "<Figure size 432x288 with 1 Axes>"
      ]
     },
     "metadata": {
      "needs_background": "light"
     },
     "output_type": "display_data"
    }
   ],
   "source": [
    "\n",
    "prediction_reg = regression_head.predict(x2)\n",
    "print(prediction_reg)\n",
    "\n",
    "\n",
    "xmin = prediction_reg[0][0]\n",
    "ymin = prediction_reg[0][1]\n",
    "xmax = prediction_reg[0][2]\n",
    "ymax = prediction_reg[0][3]\n",
    "\n",
    "\n",
    "# Create figure and axes\n",
    "#Polar Subplot with\n",
    "# x-Axis running from left to right\n",
    "# y-Axis running from top to bottom\n",
    "fig,ax = plt.subplots(1)\n",
    "\n",
    "# Display the image\n",
    "ax.imshow(img)\n",
    "\n",
    "#fig,ax = plt.subplots(1)\n",
    "\n",
    "# Display the image\n",
    "#ax.imshow(img)\n",
    "rect = patches.Rectangle((xmin,ymin),xmax-xmin,ymax-ymin,linewidth=1,edgecolor='r', facecolor='none')\n",
    "\n",
    "ax.add_patch(rect)\n",
    "\n",
    "\n",
    "\n"
   ]
  },
  {
   "cell_type": "code",
   "execution_count": null,
   "metadata": {},
   "outputs": [],
   "source": []
  }
 ],
 "metadata": {
  "kernelspec": {
   "display_name": "Python 3",
   "language": "python",
   "name": "python3"
  },
  "language_info": {
   "codemirror_mode": {
    "name": "ipython",
    "version": 3
   },
   "file_extension": ".py",
   "mimetype": "text/x-python",
   "name": "python",
   "nbconvert_exporter": "python",
   "pygments_lexer": "ipython3",
   "version": "3.6.8"
  }
 },
 "nbformat": 4,
 "nbformat_minor": 2
}
