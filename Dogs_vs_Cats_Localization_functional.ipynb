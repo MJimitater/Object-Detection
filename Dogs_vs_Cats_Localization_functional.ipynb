{
 "cells": [
  {
   "cell_type": "code",
   "execution_count": 1,
   "metadata": {},
   "outputs": [],
   "source": [
    "#The directive \"%\" talks to Jupter Notebook directly\n",
    "#matplotlib inline will embedd matplotlib graphs nicely within the code cells\n",
    "\n",
    "%matplotlib inline"
   ]
  },
  {
   "cell_type": "code",
   "execution_count": 2,
   "metadata": {},
   "outputs": [
    {
     "name": "stdout",
     "output_type": "stream",
     "text": [
      "/home/luc/Jupyter Notebooks/Object Localization/Dogs vs Cats\n"
     ]
    },
    {
     "name": "stderr",
     "output_type": "stream",
     "text": [
      "Using TensorFlow backend.\n"
     ]
    }
   ],
   "source": [
    "#import tool for accessing xml files:\n",
    "import xml.etree.ElementTree as ET\n",
    "\n",
    "import numpy as np\n",
    "from numpy import asarray\n",
    "\n",
    "#import Python Image Library (PIL)\n",
    "from PIL import Image\n",
    "\n",
    "#import matplotlib and patches to draw bounding boxes:\n",
    "import matplotlib.pyplot as plt\n",
    "import matplotlib.patches as patches\n",
    "\n",
    "\n",
    "#import keras\n",
    "import tensorflow as tf\n",
    "import keras\n",
    "from keras.models import Sequential\n",
    "from keras.layers import Dense, Dropout, Activation, Flatten\n",
    "from keras.layers import Conv2D, MaxPooling2D\n",
    "from keras.preprocessing import image\n",
    "\n",
    "\n",
    "#current path\n",
    "import os\n",
    "PATH = os.getcwd()\n",
    "print(PATH)"
   ]
  },
  {
   "cell_type": "code",
   "execution_count": 3,
   "metadata": {},
   "outputs": [
    {
     "name": "stdout",
     "output_type": "stream",
     "text": [
      "1985\n"
     ]
    }
   ],
   "source": [
    "#define path of images to be trained\n",
    "train_img_path = PATH + '/selected dataset/selected images/'\n",
    "\n",
    "img_train = []\n",
    "\n",
    "#lst = List of all images in train_img_path\n",
    "lst = os.listdir(train_img_path)\n",
    "#sort the lst alphabetically\n",
    "lst.sort()\n",
    "\n",
    "#length of the list\n",
    "print(len(lst))\n"
   ]
  },
  {
   "cell_type": "code",
   "execution_count": 4,
   "metadata": {},
   "outputs": [
    {
     "name": "stdout",
     "output_type": "stream",
     "text": [
      "Abyssinian_1.jpg\n"
     ]
    }
   ],
   "source": [
    "#print first element of List lst\n",
    "print(lst[0])"
   ]
  },
  {
   "cell_type": "code",
   "execution_count": 5,
   "metadata": {},
   "outputs": [
    {
     "name": "stdout",
     "output_type": "stream",
     "text": [
      "<class 'numpy.ndarray'>\n",
      "(1985, 100, 100, 3)\n"
     ]
    }
   ],
   "source": [
    "#Set resized dimensions:\n",
    "resized_width = 100\n",
    "resized_height = 100\n",
    "\n",
    "\n",
    "#For each image in lst, \n",
    "for sample in lst:\n",
    "    #take the specific path to that image,\n",
    "    img_path = train_img_path + sample\n",
    "    #load that image,\n",
    "    test_image = Image.open(img_path)\n",
    "    #resize that image,\n",
    "    test_image = test_image.resize((resized_width, resized_height), 3)\n",
    "    #test_image = test_image.resize((resized_width, resized_height))\n",
    "    #turn it into an array,\n",
    "    data1 = asarray(test_image)\n",
    "    #data1 = data1.reshape(resized_width, resized_height, 3)\n",
    "    #expand that 3-dim array into 4-dim array.\n",
    "    data = np.expand_dims(data1, axis=0)\n",
    "    if img_path == train_img_path + lst[0]:\n",
    "        #specify the first image/array to be the \"total\" img_array\n",
    "        img_array = data\n",
    "    else:\n",
    "        #append all following arrays to the img_array\n",
    "        #print(img_array.shape, data.shape, data1.shape, test_image.size)\n",
    "        img_array = np.append(img_array, data, axis=0)\n",
    "    \n",
    "#for white-and-black pics (channels=1), we can normalize the data points:\n",
    "#img_array = img_array / 255\n",
    "#now we can limit the range of the values to be of type float32:\n",
    "#img_array = img_array.astype('float32')\n",
    "\n",
    "#check format: should be numpy.ndarray\n",
    "print(type(img_array))\n",
    "#check shape: should be (number of pics, width, height, colourdimension)\n",
    "print(img_array.shape)\n",
    "\n",
    "\n",
    "#If error occurs, that dimensions aren't correct (concatenate), there may be a black-and-white image in the set, \n",
    "#that cannot be transformed into (100,100,3). Solution: delete this image from the set"
   ]
  },
  {
   "cell_type": "code",
   "execution_count": 6,
   "metadata": {},
   "outputs": [],
   "source": [
    "#define path of labels\n",
    "train_labels_path = PATH + '/selected dataset/selected xmls/'\n",
    "\n",
    "#list all files in directory train_labels_path:\n",
    "lst_label = os.listdir(train_labels_path)\n",
    "#sort this list:\n",
    "lst_label.sort()\n",
    "\n",
    "#output this list:\n",
    "#lst_label"
   ]
  },
  {
   "cell_type": "code",
   "execution_count": 7,
   "metadata": {},
   "outputs": [
    {
     "name": "stdout",
     "output_type": "stream",
     "text": [
      "<class 'list'>\n",
      "Abyssinian_1.xml\n"
     ]
    }
   ],
   "source": [
    "print(type(lst_label))\n",
    "print(lst_label[0])"
   ]
  },
  {
   "cell_type": "code",
   "execution_count": 8,
   "metadata": {},
   "outputs": [
    {
     "name": "stdout",
     "output_type": "stream",
     "text": [
      "1985 1985\n"
     ]
    }
   ],
   "source": [
    "label_array =[]\n",
    "label_array_reg =[]\n",
    "\n",
    "i=0\n",
    "\n",
    "#For any xml-files in the lst_label list,\n",
    "for sample_label in lst_label:\n",
    "    #Count number of labels:\n",
    "    i+=1\n",
    "    #take its path,\n",
    "    label_path = train_labels_path + sample_label\n",
    "    #parse the xml file,\n",
    "    xml = ET.parse(label_path)\n",
    "    #get the root of the xml file.\n",
    "    root_xml = xml.getroot()\n",
    "    \n",
    "    #Within the root, look for subbranch bndbox and iterate through its objects\n",
    "    for bndbox in root_xml.iter('bndbox'):\n",
    "    \n",
    "        #fetch the coordinates:\n",
    "        xmin = float(bndbox.find('xmin').text)\n",
    "        ymin = float(bndbox.find('ymin').text)\n",
    "        xmax = float(bndbox.find('xmax').text)\n",
    "        ymax = float(bndbox.find('ymax').text)\n",
    "        \n",
    "    #Grab the original size of the image:    \n",
    "    for orig_size in root_xml.iter('size'):\n",
    "        \n",
    "        width = float(orig_size.find('width').text)\n",
    "        height = float(orig_size.find('height').text)\n",
    "        \n",
    "    #Within the root, look for the subbranch object and iterate through its objects    \n",
    "    for animal_name in root_xml.iter('object'):\n",
    "        \n",
    "        #fetch the name of the animal\n",
    "        animal = animal_name.find('name').text\n",
    "        \n",
    "        if animal == 'dog':\n",
    "            animal = 1  \n",
    "        else:\n",
    "            animal = 0\n",
    "    \n",
    "    \n",
    "    #Calculate the ratios needed to apply to the original-sized-image, in order to receive the resized-image\n",
    "    #For x:\n",
    "    x_ratio = resized_width/width\n",
    "    #For y:\n",
    "    y_ratio = resized_height/height\n",
    "    \n",
    "    \n",
    "    \n",
    "    #save the coordinates and the class label in a small label array; \n",
    "    #modify the coordinates with the corresponding ratios\n",
    "    little_array2 = np.array([xmin*x_ratio, ymin*y_ratio, xmax*x_ratio, ymax*y_ratio])\n",
    "    \n",
    "    \n",
    "    #save class labels in small label array\n",
    "    little_array = np.array([animal])\n",
    "    \n",
    "    #If its the first xml label, \n",
    "    if label_path == train_labels_path + lst_label[0]:\n",
    "        #then start off with the small array to be the \"total\" label array\n",
    "        label_array = np.append(label_array, little_array)\n",
    "    else:\n",
    "        #otherwise, all other label arrays are appended to the \"total\" array\n",
    "        label_array = np.append(label_array, little_array, axis=0)     \n",
    "        \n",
    "        \n",
    "        #If its the first xml label, \n",
    "    if label_path == train_labels_path + lst_label[0]:\n",
    "        #then start off with the small array to be the \"total\" label array\n",
    "        label_array_reg = np.append(label_array_reg, little_array2)\n",
    "    else:\n",
    "        #otherwise, all other label arrays are appended to the \"total\" array\n",
    "        label_array_reg = np.append(label_array_reg, little_array2, axis=0)   \n",
    "\n",
    "        \n",
    "        \n",
    "#In the end, the number of labels is equivalent to the 4 parameter values times all the labels\n",
    "#These values must be the same in order for the image and the label sets to match!\n",
    "print(int(label_array_reg.shape[0]/4), i)"
   ]
  },
  {
   "cell_type": "code",
   "execution_count": 9,
   "metadata": {},
   "outputs": [],
   "source": [
    "#Reshape to achieve format for bounding box values: (total number of labels, 4)    \n",
    "label_array_reg = np.reshape(label_array_reg, (i,4))    \n",
    "\n",
    "#Reshape to achieve format for class labels: (total number of labels, 1)    \n",
    "label_array = np.reshape(label_array, (i,1))  "
   ]
  },
  {
   "cell_type": "code",
   "execution_count": 10,
   "metadata": {},
   "outputs": [
    {
     "name": "stdout",
     "output_type": "stream",
     "text": [
      "<class 'numpy.ndarray'>\n",
      "(1985, 1)\n",
      "<class 'numpy.ndarray'>\n",
      "(1985, 4)\n"
     ]
    }
   ],
   "source": [
    "#check format: should be numpy.ndarray\n",
    "print(type(label_array))\n",
    "#check shape: should be (number of pics, number of labels)\n",
    "#here: number of labels = 4 (xmin, ymin, xmax, ymax) + 1 (class name: 1 for dog, 0 for cat) = 5\n",
    "print(label_array.shape)\n",
    "\n",
    "print(type(label_array_reg))\n",
    "print(label_array_reg.shape)\n",
    "#print(label_array_reg)"
   ]
  },
  {
   "cell_type": "code",
   "execution_count": 11,
   "metadata": {},
   "outputs": [],
   "source": [
    "#fixed:\n",
    "num_classes = 2\n",
    "num_regressions = 4\n",
    "input_shape = (resized_width, resized_height, 3)"
   ]
  },
  {
   "cell_type": "code",
   "execution_count": 12,
   "metadata": {},
   "outputs": [],
   "source": [
    "label_array = keras.utils.to_categorical(label_array, num_classes)"
   ]
  },
  {
   "cell_type": "code",
   "execution_count": null,
   "metadata": {},
   "outputs": [],
   "source": []
  },
  {
   "cell_type": "code",
   "execution_count": 63,
   "metadata": {},
   "outputs": [],
   "source": [
    "#may be adjusted:\n",
    "batch_size = 8\n",
    "epochs = 3"
   ]
  },
  {
   "cell_type": "code",
   "execution_count": 64,
   "metadata": {},
   "outputs": [],
   "source": [
    "from keras.layers import Input, Dense\n",
    "from keras.models import Model"
   ]
  },
  {
   "cell_type": "code",
   "execution_count": 65,
   "metadata": {},
   "outputs": [
    {
     "name": "stdout",
     "output_type": "stream",
     "text": [
      "<class 'numpy.ndarray'>\n",
      "(1985, 100, 100, 3)\n"
     ]
    }
   ],
   "source": [
    "print(type(img_array))\n",
    "print(img_array.shape)"
   ]
  },
  {
   "cell_type": "code",
   "execution_count": 66,
   "metadata": {},
   "outputs": [
    {
     "name": "stdout",
     "output_type": "stream",
     "text": [
      "<class 'numpy.ndarray'>\n",
      "(1985, 100, 100, 3)\n"
     ]
    }
   ],
   "source": [
    "inputs = tf.convert_to_tensor(img_array, dtype=tf.float32)\n",
    "print(type(img_array))\n",
    "print(img_array.shape)"
   ]
  },
  {
   "cell_type": "code",
   "execution_count": 67,
   "metadata": {},
   "outputs": [
    {
     "name": "stdout",
     "output_type": "stream",
     "text": [
      "<class 'tensorflow.python.framework.ops.Tensor'> (?, 100, 100, 3)\n"
     ]
    }
   ],
   "source": [
    "#Base model:\n",
    "\n",
    "#This returns a tensor:\n",
    "inputs = Input(shape=(resized_width, resized_height,3))\n",
    "print(type(inputs), inputs.shape)\n",
    "\n",
    "base = Conv2D(32, kernel_size=(3,3), activation='relu')(inputs)\n",
    "base = MaxPooling2D(pool_size=(2,2))(base)\n",
    "\n",
    "base = Conv2D(32, kernel_size=(3,3), activation='relu')(base)\n",
    "base = MaxPooling2D(pool_size=(2,2))(base)\n",
    "\n",
    "base = Conv2D(32, kernel_size=(3,3), activation='relu')(base)\n",
    "base = MaxPooling2D(pool_size=(2,2))(base)"
   ]
  },
  {
   "cell_type": "code",
   "execution_count": 87,
   "metadata": {},
   "outputs": [
    {
     "name": "stdout",
     "output_type": "stream",
     "text": [
      "(?, 2)\n"
     ]
    }
   ],
   "source": [
    "#Class head:\n",
    "\n",
    "class_head = Flatten()(base)\n",
    "\n",
    "\n",
    "class_head = Dense(32, activation='relu')(class_head)\n",
    "class_head = Dropout(0.25)(class_head)\n",
    "class_head = Dense(16, activation='relu')(class_head)\n",
    "\n",
    "\n",
    "\n",
    "class_predictions = Dense(2, activation='sigmoid', name='class_output')(class_head)\n",
    "\n",
    "print(class_predictions.shape)\n"
   ]
  },
  {
   "cell_type": "code",
   "execution_count": 88,
   "metadata": {},
   "outputs": [],
   "source": [
    "#Regression head:\n",
    "\n",
    "regression_head = Flatten()(base)\n",
    "\n",
    "regression_head = Dense(64, activation='relu')(regression_head)\n",
    "regression_head = Dropout(0.25)(regression_head)\n",
    "regression_head = Dense(32, activation='relu')(regression_head)\n",
    "\n",
    "#Last layer should be regressionally trained, so have ReLU activation to preserve possibly high values\n",
    "reg_predictions = Dense(num_regressions, activation='relu', name='reg_output')(regression_head)"
   ]
  },
  {
   "cell_type": "code",
   "execution_count": 89,
   "metadata": {},
   "outputs": [],
   "source": [
    "#class Model: specify input layer and output layer\n",
    "\n",
    "model = Model(inputs=inputs, outputs=[class_predictions, reg_predictions])"
   ]
  },
  {
   "cell_type": "code",
   "execution_count": 90,
   "metadata": {},
   "outputs": [
    {
     "name": "stdout",
     "output_type": "stream",
     "text": [
      "__________________________________________________________________________________________________\n",
      "Layer (type)                    Output Shape         Param #     Connected to                     \n",
      "==================================================================================================\n",
      "input_4 (InputLayer)            (None, 100, 100, 3)  0                                            \n",
      "__________________________________________________________________________________________________\n",
      "conv2d_10 (Conv2D)              (None, 98, 98, 32)   896         input_4[0][0]                    \n",
      "__________________________________________________________________________________________________\n",
      "max_pooling2d_9 (MaxPooling2D)  (None, 49, 49, 32)   0           conv2d_10[0][0]                  \n",
      "__________________________________________________________________________________________________\n",
      "conv2d_11 (Conv2D)              (None, 47, 47, 32)   9248        max_pooling2d_9[0][0]            \n",
      "__________________________________________________________________________________________________\n",
      "max_pooling2d_10 (MaxPooling2D) (None, 23, 23, 32)   0           conv2d_11[0][0]                  \n",
      "__________________________________________________________________________________________________\n",
      "conv2d_12 (Conv2D)              (None, 21, 21, 32)   9248        max_pooling2d_10[0][0]           \n",
      "__________________________________________________________________________________________________\n",
      "max_pooling2d_11 (MaxPooling2D) (None, 10, 10, 32)   0           conv2d_12[0][0]                  \n",
      "__________________________________________________________________________________________________\n",
      "flatten_12 (Flatten)            (None, 3200)         0           max_pooling2d_11[0][0]           \n",
      "__________________________________________________________________________________________________\n",
      "flatten_13 (Flatten)            (None, 3200)         0           max_pooling2d_11[0][0]           \n",
      "__________________________________________________________________________________________________\n",
      "dense_20 (Dense)                (None, 32)           102432      flatten_12[0][0]                 \n",
      "__________________________________________________________________________________________________\n",
      "dense_22 (Dense)                (None, 64)           204864      flatten_13[0][0]                 \n",
      "__________________________________________________________________________________________________\n",
      "dropout_1 (Dropout)             (None, 32)           0           dense_20[0][0]                   \n",
      "__________________________________________________________________________________________________\n",
      "dropout_2 (Dropout)             (None, 64)           0           dense_22[0][0]                   \n",
      "__________________________________________________________________________________________________\n",
      "dense_21 (Dense)                (None, 16)           528         dropout_1[0][0]                  \n",
      "__________________________________________________________________________________________________\n",
      "dense_23 (Dense)                (None, 32)           2080        dropout_2[0][0]                  \n",
      "__________________________________________________________________________________________________\n",
      "class_output (Dense)            (None, 2)            34          dense_21[0][0]                   \n",
      "__________________________________________________________________________________________________\n",
      "reg_output (Dense)              (None, 4)            132         dense_23[0][0]                   \n",
      "==================================================================================================\n",
      "Total params: 329,462\n",
      "Trainable params: 329,462\n",
      "Non-trainable params: 0\n",
      "__________________________________________________________________________________________________\n"
     ]
    }
   ],
   "source": [
    "model.summary()"
   ]
  },
  {
   "cell_type": "code",
   "execution_count": 91,
   "metadata": {},
   "outputs": [],
   "source": [
    "from keras.utils import plot_model\n",
    "\n",
    "plot_model(model, to_file='class_prediction_head.png')"
   ]
  },
  {
   "cell_type": "code",
   "execution_count": 92,
   "metadata": {},
   "outputs": [],
   "source": [
    "model.compile(optimizer='adam',\n",
    "              loss={'class_output': 'binary_crossentropy',\n",
    "         'reg_output': 'mse'},\n",
    "              metrics=['accuracy'])"
   ]
  },
  {
   "cell_type": "code",
   "execution_count": 93,
   "metadata": {},
   "outputs": [
    {
     "name": "stdout",
     "output_type": "stream",
     "text": [
      "Epoch 1/3\n",
      "1985/1985 [==============================] - 8s 4ms/step - loss: 494.3134 - class_output_loss: 0.6943 - reg_output_loss: 493.6192 - class_output_acc: 0.6791 - reg_output_acc: 0.6302\n",
      "Epoch 2/3\n",
      "1985/1985 [==============================] - 5s 2ms/step - loss: 310.0203 - class_output_loss: 0.5564 - reg_output_loss: 309.4639 - class_output_acc: 0.7204 - reg_output_acc: 0.6912\n",
      "Epoch 3/3\n",
      "1985/1985 [==============================] - 5s 2ms/step - loss: 272.3769 - class_output_loss: 0.5089 - reg_output_loss: 271.8680 - class_output_acc: 0.7534 - reg_output_acc: 0.7234\n"
     ]
    },
    {
     "data": {
      "text/plain": [
       "<keras.callbacks.History at 0x7fb861110978>"
      ]
     },
     "execution_count": 93,
     "metadata": {},
     "output_type": "execute_result"
    }
   ],
   "source": [
    "model.fit(img_array, {'class_output': label_array, 'reg_output': label_array_reg}, epochs=epochs, batch_size=batch_size)  # starts training"
   ]
  },
  {
   "cell_type": "code",
   "execution_count": 94,
   "metadata": {},
   "outputs": [
    {
     "name": "stdout",
     "output_type": "stream",
     "text": [
      "Saved Object Localization model to disk\n"
     ]
    }
   ],
   "source": [
    "#Save models:\n",
    "\n",
    "model.save(\"model.h5\")\n",
    "print(\"Saved Object Localization model to disk\")"
   ]
  },
  {
   "cell_type": "code",
   "execution_count": 95,
   "metadata": {},
   "outputs": [],
   "source": [
    "from keras.models import load_model\n",
    "\n",
    "model = load_model('model.h5')\n"
   ]
  },
  {
   "cell_type": "code",
   "execution_count": 96,
   "metadata": {},
   "outputs": [
    {
     "name": "stdout",
     "output_type": "stream",
     "text": [
      "[array([[0.26085314, 0.8436398 ]], dtype=float32), array([[22.918192, 11.416712, 49.63076 , 38.446056]], dtype=float32)]\n",
      "It's a dog!\n"
     ]
    }
   ],
   "source": [
    "from keras.preprocessing import image\n",
    "\n",
    "#load image from 'test' folder to be predicted;\n",
    "#transform them to the right size 100x100\n",
    "#these images are totally new to the CNN\n",
    "img = image.load_img(PATH + \"/images/shiba_inu_51.jpg\", target_size=(100, 100))\n",
    "#make an array out of it\n",
    "x = image.img_to_array(img)\n",
    "\n",
    "# Add a forth dimension since Keras expects a list of images\n",
    "x2 = np.expand_dims(x, axis=0)\n",
    "# Make a prediction with the CNN\n",
    "prediction = model.predict(x2)\n",
    "\n",
    "#label was either [[1. 0.]] or [[0. 1.]]\n",
    "#[[1. 0.]] means: cat\n",
    "#[[0. 1.]] means: dog\n",
    "print(prediction)\n",
    "\n",
    "#Prediction output:\n",
    "#prediction[0][0] will grab the first element of the array, prediction[0][1] the second\n",
    "if prediction[0][0][0] > prediction[0][0][1]:\n",
    "    print(\"It's a cat!\")\n",
    "else:\n",
    "    print(\"It's a dog!\")\n",
    "    "
   ]
  },
  {
   "cell_type": "code",
   "execution_count": 97,
   "metadata": {},
   "outputs": [
    {
     "data": {
      "text/plain": [
       "<matplotlib.patches.Rectangle at 0x7fb85039d9b0>"
      ]
     },
     "execution_count": 97,
     "metadata": {},
     "output_type": "execute_result"
    },
    {
     "data": {
      "image/png": "[encoded data removed]",
      "text/plain": [
       "<Figure size 432x288 with 1 Axes>"
      ]
     },
     "metadata": {
      "needs_background": "light"
     },
     "output_type": "display_data"
    }
   ],
   "source": [
    "#prediction_reg = regression_head.predict(x2)\n",
    "#print(prediction_reg)\n",
    "\n",
    "\n",
    "xmin = prediction[1][0][0]\n",
    "ymin = prediction[1][0][1]\n",
    "xmax = prediction[1][0][2]\n",
    "ymax = prediction[1][0][3]\n",
    "\n",
    "\n",
    "# Create figure and axes\n",
    "#Polar Subplot with\n",
    "# x-Axis running from left to right\n",
    "# y-Axis running from top to bottom\n",
    "fig,ax = plt.subplots(1)\n",
    "\n",
    "# Display the image\n",
    "ax.imshow(img)\n",
    "\n",
    "#fig,ax = plt.subplots(1)\n",
    "\n",
    "# Display the image\n",
    "#ax.imshow(img)\n",
    "rect = patches.Rectangle((xmin,ymin),xmax-xmin,ymax-ymin,linewidth=1,edgecolor='r', facecolor='none')\n",
    "\n",
    "ax.add_patch(rect)"
   ]
  },
  {
   "cell_type": "code",
   "execution_count": null,
   "metadata": {},
   "outputs": [],
   "source": []
  }
 ],
 "metadata": {
  "kernelspec": {
   "display_name": "Python [conda env:env_ml] *",
   "language": "python",
   "name": "conda-env-env_ml-py"
  },
  "language_info": {
   "codemirror_mode": {
    "name": "ipython",
    "version": 3
   },
   "file_extension": ".py",
   "mimetype": "text/x-python",
   "name": "python",
   "nbconvert_exporter": "python",
   "pygments_lexer": "ipython3",
   "version": "3.6.8"
  }
 },
 "nbformat": 4,
 "nbformat_minor": 2
}
