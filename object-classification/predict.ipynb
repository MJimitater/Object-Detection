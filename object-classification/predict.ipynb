{
 "cells": [
  {
   "cell_type": "code",
   "execution_count": 7,
   "metadata": {},
   "outputs": [
    {
     "output_type": "stream",
     "name": "stdout",
     "text": "1.0\nIt's a dog!\n"
    }
   ],
   "source": [
    "from keras.preprocessing import image\n",
    "from keras.models import load_model\n",
    "import numpy as np\n",
    "\n",
    "#load trained CNN model\n",
    "model = load_model('CNN_model.h5')\n",
    "\n",
    "#load image from 'test' folder to be predicted;\n",
    "#transform them to the right size 100x100\n",
    "#these images are totally new to the CNN\n",
    "img = image.load_img(\"test/83.jpg\", target_size=(100, 100))\n",
    "#make an array out of it\n",
    "x = image.img_to_array(img)\n",
    "\n",
    "# Add a forth dimension since Keras expects a list of images\n",
    "x = np.expand_dims(x, axis=0)\n",
    "# Make a prediction with the CNN\n",
    "prediction = model.predict(x)\n",
    "#Grab just the first element of the first prediction, since that's the only one\n",
    "prediction = prediction[0][0]\n",
    "\n",
    "print(prediction)\n",
    "\n",
    "#Prediction output:\n",
    "if prediction > 0.5:\n",
    "    print(\"It's a dog!\")\n",
    "else:\n",
    "    print(\"It's a cat!\")"
   ]
  },
  {
   "cell_type": "code",
   "execution_count": null,
   "metadata": {},
   "outputs": [],
   "source": []
  },
  {
   "cell_type": "code",
   "execution_count": null,
   "metadata": {},
   "outputs": [],
   "source": []
  }
 ],
 "metadata": {
  "kernelspec": {
   "display_name": "Python 3",
   "language": "python",
   "name": "python3"
  },
  "language_info": {
   "codemirror_mode": {
    "name": "ipython",
    "version": 3
   },
   "file_extension": ".py",
   "mimetype": "text/x-python",
   "name": "python",
   "nbconvert_exporter": "python",
   "pygments_lexer": "ipython3",
   "version": "3.8.3-final"
  }
 },
 "nbformat": 4,
 "nbformat_minor": 2
}